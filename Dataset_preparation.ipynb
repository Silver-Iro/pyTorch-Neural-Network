{
 "cells": [
  {
   "cell_type": "markdown",
   "id": "e4087d55-3ae6-4dda-a6dc-ef3413391d83",
   "metadata": {},
   "source": [
    "# Dataset"
   ]
  },
  {
   "cell_type": "code",
   "execution_count": null,
   "id": "62898bc3-a5ad-4123-bf08-109345d6384d",
   "metadata": {},
   "outputs": [],
   "source": [
    "import kagglehub\n",
    "import os\n",
    "import shutil\n",
    "import pandas as pd\n",
    "from sklearn.model_selection import train_test_split\n",
    "import torch"
   ]
  },
  {
   "cell_type": "markdown",
   "id": "63fbe6dc-c4d2-4c51-8e20-cb44082755ef",
   "metadata": {},
   "source": [
    "we will be using \"Stellar Classification Dataset - SDSS17\" Dataset\n",
    "From Fedesoriano"
   ]
  },
  {
   "cell_type": "code",
   "execution_count": null,
   "id": "f595f87c-f8da-4fa5-b3d3-9dd565dd7ed6",
   "metadata": {},
   "outputs": [],
   "source": [
    "path = kagglehub.dataset_download(\"fedesoriano/stellar-classification-dataset-sdss17\")\n",
    "# print(\"Path to dataset files:\", path)"
   ]
  },
  {
   "cell_type": "code",
   "execution_count": null,
   "id": "bd3f8e93-e1cb-4dbb-bc78-fb63376ab1f3",
   "metadata": {},
   "outputs": [],
   "source": [
    "# copy kaggle dataset to our repository\n",
    "if not os.path.exists(\"datasets\"):\n",
    "    print(\"'datasets/' Directory created\")\n",
    "    os.makedirs(\"datasets\")\n",
    "csv_name = \"star_classification.csv\"\n",
    "old_datasetpath = os.path.join(path,csv_name)\n",
    "new_datasetpath = os.path.join(\"datasets/\",csv_name)\n",
    "dataset = shutil.copy(old_datasetpath,new_datasetpath)"
   ]
  },
  {
   "cell_type": "code",
   "execution_count": null,
   "id": "1680d8b2-4e6c-4574-9bc1-0fa2bf2fa26e",
   "metadata": {},
   "outputs": [],
   "source": [
    "# import the dataset\n",
    "df = pd.read_csv(dataset)\n",
    "df.head()"
   ]
  },
  {
   "cell_type": "code",
   "execution_count": null,
   "id": "fc5290c8-21b3-4e8b-ba9b-1ac6d6fb1273",
   "metadata": {},
   "outputs": [],
   "source": [
    "# replace dataset classes with numbers\n",
    "df['class'] = df['class'].replace('GALAXY', 0)\n",
    "df['class'] = df['class'].replace('STAR', 1)\n",
    "df['class'] = df['class'].replace('QSO', 2)\n",
    "df"
   ]
  },
  {
   "cell_type": "code",
   "execution_count": null,
   "id": "eac4dd89-c642-4d55-8fbd-9d18d6e1a309",
   "metadata": {},
   "outputs": [],
   "source": [
    "# splitting csv to x and y values\n",
    "x = df.drop('class', axis=1)\n",
    "y = df['class']\n",
    "\n",
    "#remove useless features\n",
    "x = x.drop(['rerun_ID', 'run_ID', 'cam_col', 'field_ID', 'obj_ID','spec_obj_ID', 'fiber_ID', 'plate', 'MJD'], axis=1)\n",
    "\n",
    "# normalize dataset values for better learning \n",
    "x = (x-x.min())/(x.max()-x.min())\n",
    "\n",
    "# thanks pandas\n",
    "X = x.to_numpy()\n",
    "y = y.to_numpy()"
   ]
  },
  {
   "cell_type": "code",
   "execution_count": null,
   "id": "abdf73f4-ff5a-4c3b-89aa-de09e21b4569",
   "metadata": {},
   "outputs": [],
   "source": [
    "# x"
   ]
  },
  {
   "cell_type": "code",
   "execution_count": null,
   "id": "d35b34b8-27a0-4bf0-a023-a3e9aaa34c64",
   "metadata": {},
   "outputs": [],
   "source": [
    "# splitting set to train and test sets\n",
    "X_train, X_test, y_train, y_test = train_test_split(X, y, test_size=0.2)"
   ]
  },
  {
   "cell_type": "code",
   "execution_count": null,
   "id": "8607a4a4-ee29-4b4a-8a74-58618e94cc17",
   "metadata": {},
   "outputs": [],
   "source": [
    "# converting X and y to tensors\n",
    "X_train = torch.FloatTensor(X_train)\n",
    "X_test = torch.FloatTensor(X_test)\n",
    "\n",
    "y_train = torch.LongTensor(y_train)\n",
    "y_test = torch.LongTensor(y_test)"
   ]
  }
 ],
 "metadata": {
  "kernelspec": {
   "display_name": "Python 3 (ipykernel)",
   "language": "python",
   "name": "python3"
  },
  "language_info": {
   "codemirror_mode": {
    "name": "ipython",
    "version": 3
   },
   "file_extension": ".py",
   "mimetype": "text/x-python",
   "name": "python",
   "nbconvert_exporter": "python",
   "pygments_lexer": "ipython3",
   "version": "3.12.7"
  }
 },
 "nbformat": 4,
 "nbformat_minor": 5
}
