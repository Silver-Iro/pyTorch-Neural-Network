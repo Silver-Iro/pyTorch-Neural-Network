{
 "cells": [
  {
   "cell_type": "code",
   "execution_count": null,
   "id": "4af4b10d-8e6d-436f-957b-c37b5abf43a3",
   "metadata": {},
   "outputs": [],
   "source": [
    "import torch\n",
    "import torch.nn as nn\n",
    "import torch.nn.functional as fn\n",
    "import matplotlib.pyplot as plt\n",
    "from sklearn.metrics import ConfusionMatrixDisplay\n",
    "%matplotlib inline"
   ]
  },
  {
   "cell_type": "code",
   "execution_count": null,
   "id": "701c8e19-0a71-4379-97e4-8521e9819d1b",
   "metadata": {},
   "outputs": [],
   "source": [
    "# Run the dataset preparation notebook\n",
    "%run Dataset_preparation.ipynb\n",
    "# outputs training and test sets (X and y)"
   ]
  },
  {
   "cell_type": "code",
   "execution_count": null,
   "id": "64e9460f-0a8e-418a-8b30-aba0325cd7ec",
   "metadata": {},
   "outputs": [],
   "source": [
    "class Model(nn.Module): #inherets torch.nn.Module\n",
    "    # input 8 features\n",
    "    # hidden layer 1 \n",
    "    # hidden layer 2\n",
    "    # output layer (star, galaxy, quasar)\n",
    "    def __init__(self,in_features=8, h1=32, h2=16, out_features=3):\n",
    "        super().__init__()\n",
    "        self.fc1 = nn.Linear(in_features, h1)\n",
    "        self.fc2 = nn.Linear(h1, h2)\n",
    "        self.out = nn.Linear(h2, out_features)\n",
    "\n",
    "    def forward(self, x):\n",
    "        x = fn.tanh(self.fc1(x))\n",
    "        x = fn.tanh(self.fc2(x))\n",
    "        x = self.out(x)\n",
    "\n",
    "        return x"
   ]
  },
  {
   "cell_type": "code",
   "execution_count": null,
   "id": "513bafc1-1287-4b54-9c28-af224cd0c8ea",
   "metadata": {},
   "outputs": [],
   "source": [
    "# torch.manual_seed(17) # commented out after testing is done\n",
    "model = Model()"
   ]
  },
  {
   "cell_type": "code",
   "execution_count": null,
   "id": "15a91e45-38ea-4612-9bb9-7fa48ef11c91",
   "metadata": {},
   "outputs": [],
   "source": [
    "# Loss\n",
    "criterion = nn.CrossEntropyLoss()\n",
    "# optimizer => Adam\n",
    "optimizer = torch.optim.Adam(model.parameters(), lr=0.005)"
   ]
  },
  {
   "cell_type": "markdown",
   "id": "0c6499c2-5ba8-4302-b4c6-e6730ecace2b",
   "metadata": {},
   "source": [
    "# Training"
   ]
  },
  {
   "cell_type": "code",
   "execution_count": null,
   "id": "7c936dd1-1f1e-4b3e-b240-9c79c4931759",
   "metadata": {},
   "outputs": [],
   "source": [
    "epochs = 1000\n",
    "losses = []\n",
    "accurate = 0\n",
    "last_accuracy = 0\n",
    "for i in range(epochs):\n",
    "    # forward\n",
    "    y_pred = model.forward(X_train)\n",
    "    \n",
    "    # loss\n",
    "    loss = criterion(y_pred, y_train)\n",
    "    losses.append(loss.detach().numpy())\n",
    "\n",
    "    # track recent accuracy\n",
    "    if (y_pred[i].argmax()== y_train[i]):\n",
    "        accurate += 1\n",
    "\n",
    "    if i % 100 == 0 :\n",
    "        last_accuracy = accurate\n",
    "        print(f' Epoch: {i} and loss: {loss} \\t recent accuracy:{accurate/10}')\n",
    "        accurate = 0\n",
    "\n",
    "    # back propagation\n",
    "    optimizer.zero_grad()\n",
    "    loss.backward()\n",
    "    optimizer.step()"
   ]
  },
  {
   "cell_type": "code",
   "execution_count": null,
   "id": "ce203b76-8ef4-4e1a-a713-a4527256378a",
   "metadata": {},
   "outputs": [],
   "source": [
    "# model evaluation\n",
    "with torch.no_grad(): # disable learning\n",
    "    y_eval = model.forward(X_test)\n",
    "    loss = criterion(y_eval, y_test)\n",
    "print(f'Test loss: {loss}')\n"
   ]
  },
  {
   "cell_type": "code",
   "execution_count": null,
   "id": "d3edb795-9ea6-4508-b331-fed6894bf47f",
   "metadata": {},
   "outputs": [],
   "source": [
    "# accuracy\n",
    "runs = 0\n",
    "accurate = 0\n",
    "y_pred=[]\n",
    "with torch.no_grad(): # disable learning\n",
    "    for i, data in enumerate(X_test):\n",
    "        runs = i\n",
    "        y_eval = model.forward(data)\n",
    "        y_pred.append(y_eval.argmax().item())\n",
    "\n",
    "        if (y_eval.argmax() == y_test[i]):\n",
    "            accurate += 1\n",
    "print(f' accuracy: {accurate/runs}')"
   ]
  },
  {
   "cell_type": "code",
   "execution_count": null,
   "id": "559656c7-927c-4fb7-9353-264e69e3bd58",
   "metadata": {},
   "outputs": [],
   "source": [
    "# plot model performance\n",
    "print(f' accuracy: {accurate/runs}')\n",
    "ConfusionMatrixDisplay.from_predictions(y_test, y_pred)\n",
    "plt.show()"
   ]
  }
 ],
 "metadata": {
  "kernelspec": {
   "display_name": "Python 3 (ipykernel)",
   "language": "python",
   "name": "python3"
  },
  "language_info": {
   "codemirror_mode": {
    "name": "ipython",
    "version": 3
   },
   "file_extension": ".py",
   "mimetype": "text/x-python",
   "name": "python",
   "nbconvert_exporter": "python",
   "pygments_lexer": "ipython3",
   "version": "3.12.7"
  }
 },
 "nbformat": 4,
 "nbformat_minor": 5
}
